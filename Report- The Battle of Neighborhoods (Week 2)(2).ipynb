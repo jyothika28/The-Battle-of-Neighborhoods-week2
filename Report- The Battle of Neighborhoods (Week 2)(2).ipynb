{
 "cells": [
  {
   "cell_type": "markdown",
   "metadata": {},
   "source": [
    "<h1><b>Peer-graded Assignment: Capstone Project - The Battle of Neighborhoods (Week 1)</b></h1>"
   ]
  },
  {
   "cell_type": "markdown",
   "metadata": {},
   "source": [
    "<h1>Introduction/Business Problem </h1>"
   ]
  },
  {
   "cell_type": "markdown",
   "metadata": {},
   "source": [
    "The Business problem to be discussed here is that to setup a business of any kind whether it can be related to clothing,restaurant,Grocery store or a pharmacy store and the list can go on.To establish something which is related to business you just can't establish in whichever place you want if profit and success matters to you.There are some particular/important areas and statistics based on the region or otherwise that are needed to be taken care of for the success of the business.For Example:Population of the particular area can really effect the business.There are many important areas which are to be concentrated such as quality,stock,price affordability.Every customer just keeps price affordability and quality because the customer compares price with another store.The price should be neither high nor too low.To establish a business there should be uniqueness in the product or products depending on the type of product.The problem to be solved here is Where to establish a business and what criteria should be used to solve this problem and how to increase the number of stakeholders to acquire profits in the business?"
   ]
  },
  {
   "cell_type": "markdown",
   "metadata": {},
   "source": [
    "<h1> Data section/Solution </h1>\n"
   ]
  },
  {
   "cell_type": "markdown",
   "metadata": {},
   "source": [
    "Data scientist and Data science plays a very crucial role in this aspect.To solve the above problem there are many techniques in data science which give clear and clean statistics and show you the right solution for the problem mentioned above.In this problem we'll also use foursquare location application to get the data about the searched location.We can directly put in the address and search for the nearby stores their details their ratings etc.But as we are going to map the data we use jupyter notebook using python.We query for the foursquare location with respective client_id,client_secret,version to obtain the results.The results we get will be in the form of json file and we have to convert it into pandas dataframe for easier access of the values and manipulate the data for good results.  \n",
    "\n",
    "<b>Packages that are to be imported are:</b> \n",
    "\n",
    "1.geopy package for convert an address into latitude and longitude values of the particular location.\n",
    "\n",
    "2.requests package to handle requests.\n",
    "\n",
    "3.folium to map rendering library.\n",
    "\n",
    "4.json to handle JSON files.\n",
    "\n",
    "5.KMeans clustering form sklearn to cluster similar kind of data.\n",
    "\n",
    "6.matplotlib to plot modules.\n",
    "\n",
    "7.pandas to convert data into a dataframe and numpy to handle data in a vectorized manner.\n",
    "\n",
    "8.Json_normalize to tranform JSON file into a pandas dataframe\n",
    "\n",
    "After gathering all the information/data about the particular location we perform queries and clustering techniques and we choose which location is appropriate for us to establish business in preferred location.\n",
    "\n",
    "In this aspect we use newyork data set https://cocl.us/new_york_dataset  from the link and transfer it into a dataframe to obtain nearby stores in the location and cluster them to obtain the results and choose the appropriate location where we can establish the business.\n",
    "We are going to establish a italian restaurant.For this we are going to explore which location suits the best in the notebook.\n",
    "To establish a business many things should be considered and then take a forward step because if there is huge success then more branches can be established otherwise there will be huge loss."
   ]
  },
  {
   "cell_type": "markdown",
   "metadata": {},
   "source": [
    "<h1>Methodology Section</h1>\n"
   ]
  },
  {
   "cell_type": "markdown",
   "metadata": {},
   "source": [
    "In this section we will download the data sets and explore the data sets and manipulate the data accordingly.First downloading the data set and the data is a json file.Json package is imported and used to retreive the data in the json file and json_normalize package to normalize the data in the json file.pandas package is used convert into a dataframe for easier access of data and manipulation of data.A dataframe is created with 4 columns named as Borough,Neighbourhood,latitude and longitude."
   ]
  },
  {
   "cell_type": "markdown",
   "metadata": {},
   "source": [
    "<img src=\"2.jpg\" width=500\\>"
   ]
  },
  {
   "cell_type": "markdown",
   "metadata": {},
   "source": [
    "Geopy package is imported and used to get latitude and longitude values of the given address.Here new york NY is used as the address.The latitude and longitude values for the particular location is appended in the data frame with their respective locations.Here folium package to plot a map with their respective labels of neighbourhood."
   ]
  },
  {
   "cell_type": "markdown",
   "metadata": {},
   "source": [
    "<img src=\"01.jpg\" width=600/>"
   ]
  },
  {
   "cell_type": "markdown",
   "metadata": {},
   "source": [
    "The next step is we use four square location app to get the nearby venues of the given address.For that  client_id,client_secret and version are needed."
   ]
  },
  {
   "cell_type": "markdown",
   "metadata": {},
   "source": [
    "<img src=\"5.jpg\" width=700/>"
   ]
  },
  {
   "cell_type": "markdown",
   "metadata": {},
   "source": [
    "The main motive here is to open a Italian restaurant so we group the data based on the Italian Cuisine and assign a new variable to that data frame."
   ]
  },
  {
   "cell_type": "markdown",
   "metadata": {},
   "source": [
    "<img src=\"4.jpg\" width =250\\>"
   ]
  },
  {
   "cell_type": "markdown",
   "metadata": {},
   "source": [
    "After grouping we create clusters using sklearn package and KMeans module is imported of clustering similar kind of data with KMeans clustering.There are 4 clusters "
   ]
  },
  {
   "cell_type": "markdown",
   "metadata": {},
   "source": [
    "<h1>Results Section</h1>"
   ]
  },
  {
   "cell_type": "markdown",
   "metadata": {},
   "source": [
    "These are the results for the 4 clusters"
   ]
  },
  {
   "cell_type": "markdown",
   "metadata": {},
   "source": [
    "<b>Cluster 0:In this cluster there are no italian restaurants within the neighbourhood</b>"
   ]
  },
  {
   "cell_type": "markdown",
   "metadata": {},
   "source": [
    "<img src=\"8.cluster0.jpg\" width=500/>"
   ]
  },
  {
   "cell_type": "markdown",
   "metadata": {},
   "source": [
    "<b>Cluster 1:Even in this cluster there are no italian restaurants within their respective neighbourhoods</b>"
   ]
  },
  {
   "cell_type": "markdown",
   "metadata": {},
   "source": [
    "<img src=\"9.cluster1.jpg\" width=500/>"
   ]
  },
  {
   "cell_type": "markdown",
   "metadata": {},
   "source": [
    "<b>Cluster 2:In this cluster we find most number of italian restaurants compared to other clusters</b>"
   ]
  },
  {
   "cell_type": "markdown",
   "metadata": {},
   "source": [
    "<img src=\"10.cluster2.jpg\" width=500/>"
   ]
  },
  {
   "cell_type": "markdown",
   "metadata": {},
   "source": [
    "<b>Cluster 3:Less number of italian restaurants</b>"
   ]
  },
  {
   "cell_type": "markdown",
   "metadata": {},
   "source": [
    "<img src=\"11.cluster3.jpg\" width=500/>"
   ]
  },
  {
   "cell_type": "markdown",
   "metadata": {},
   "source": [
    "Here KMeans clustering is used because it is one of the easiest and best way of machine learnings to cluster the data.That is the reason it is used to cluster the similar neighbourhoods in this project. "
   ]
  },
  {
   "cell_type": "markdown",
   "metadata": {},
   "source": [
    "<h1>Recommendations</h1>"
   ]
  },
  {
   "cell_type": "markdown",
   "metadata": {},
   "source": [
    "Here by observing the clusters cluster 3 is has more italian restaurants than any other clusters when compared and it seems that Cluster 3 will be the area that gathers the Italian Restaurant most intensively.\n",
    "Bensonhart seems to be the neighborhood that incorporates the most Italian restaurants, which could also be verified by venues names. There are less number of italian restaurants so this project recommends the entrepeneur to open an authentic italian restaurant with wide variety of italian cuisines in the this location with no competition."
   ]
  },
  {
   "cell_type": "markdown",
   "metadata": {},
   "source": [
    "<h1>Limitations and Suggestions for Future Research </h1>"
   ]
  },
  {
   "cell_type": "markdown",
   "metadata": {},
   "source": [
    "In this project, I only take into consideration of one factor: the occurrence / existence of Italian\n",
    "Restaurants in each neighbourhood. There are many factors that can be taken into consideration\n",
    "such as population density, income of residents, rent that could influence the decision to open a new\n",
    "restaurant. However, to put all these data into this project is not possible to do within a short time\n",
    "frame for this capstone project. Future research can take into consideration of these factors."
   ]
  },
  {
   "cell_type": "markdown",
   "metadata": {},
   "source": [
    "<h1>Conclusion section</h1>"
   ]
  },
  {
   "cell_type": "markdown",
   "metadata": {},
   "source": [
    "\n",
    "In this project, we have gone through the process of identifying the business problem, specifying\n",
    "the data required, extracting and preparing the data, performing the machine learning by utilising kmeans\n",
    "clustering and providing recommendation to the stakeholder.An entrepeneur can establish in either of the locations in cluster 3 as mentioned above."
   ]
  },
  {
   "cell_type": "markdown",
   "metadata": {},
   "source": [
    "<h1>References</h1>"
   ]
  },
  {
   "cell_type": "markdown",
   "metadata": {},
   "source": [
    "Foursquare Developer Documentation: https://developer.foursquare.com/docs\n",
    "\n",
    "New York Venues: https://cocl.us/new_york_dataset"
   ]
  },
  {
   "cell_type": "code",
   "execution_count": null,
   "metadata": {},
   "outputs": [],
   "source": []
  }
 ],
 "metadata": {
  "kernelspec": {
   "display_name": "Python 3",
   "language": "python",
   "name": "python3"
  },
  "language_info": {
   "codemirror_mode": {
    "name": "ipython",
    "version": 3
   },
   "file_extension": ".py",
   "mimetype": "text/x-python",
   "name": "python",
   "nbconvert_exporter": "python",
   "pygments_lexer": "ipython3",
   "version": "3.6.5"
  }
 },
 "nbformat": 4,
 "nbformat_minor": 2
}
